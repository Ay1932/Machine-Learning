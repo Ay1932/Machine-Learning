{
  "nbformat": 4,
  "nbformat_minor": 0,
  "metadata": {
    "colab": {
      "provenance": [],
      "mount_file_id": "1_qWqZXsP06Tl8NglP3MROyooL1b-kalZ",
      "authorship_tag": "ABX9TyNt/kGmNXvGuInhak4tOEbX",
      "include_colab_link": true
    },
    "kernelspec": {
      "name": "python3",
      "display_name": "Python 3"
    },
    "language_info": {
      "name": "python"
    }
  },
  "cells": [
    {
      "cell_type": "markdown",
      "metadata": {
        "id": "view-in-github",
        "colab_type": "text"
      },
      "source": [
        "<a href=\"https://colab.research.google.com/github/Ay1932/Machine-Learning/blob/main/Heart_dieases.ipynb\" target=\"_parent\"><img src=\"https://colab.research.google.com/assets/colab-badge.svg\" alt=\"Open In Colab\"/></a>"
      ]
    },
    {
      "cell_type": "markdown",
      "source": [
        "**Load the dataset of Heart attack prediction**"
      ],
      "metadata": {
        "id": "KbcSfrQPzkFP"
      }
    },
    {
      "cell_type": "code",
      "source": [
        "import pandas as pd\n",
        "\n",
        "# Load the dataset\n",
        "file_path = \"/content/drive/MyDrive/heart_attack_prediction_dataset.csv\"\n",
        "df = pd.read_csv(file_path)\n",
        "\n",
        "# Display first few rows\n",
        "print(df.head())\n",
        "\n",
        "# Check column names & data types\n",
        "print(df.info())\n",
        "\n",
        "# Check for missing values\n",
        "print(df.isnull().sum())\n"
      ],
      "metadata": {
        "colab": {
          "base_uri": "https://localhost:8080/"
        },
        "collapsed": true,
        "id": "N_OFX05Tx13o",
        "outputId": "19ec2231-8a0c-4786-b62f-cd4df925ea5e"
      },
      "execution_count": 13,
      "outputs": [
        {
          "output_type": "stream",
          "name": "stdout",
          "text": [
            "  Patient ID  Age     Sex  Cholesterol Blood Pressure  Heart Rate  Diabetes  \\\n",
            "0    BMW7812   67    Male          208         158/88          72         0   \n",
            "1    CZE1114   21    Male          389         165/93          98         1   \n",
            "2    BNI9906   21  Female          324         174/99          72         1   \n",
            "3    JLN3497   84    Male          383        163/100          73         1   \n",
            "4    GFO8847   66    Male          318          91/88          93         1   \n",
            "\n",
            "   Family History  Smoking  Obesity  ...  Sedentary Hours Per Day  Income  \\\n",
            "0               0        1        0  ...                 6.615001  261404   \n",
            "1               1        1        1  ...                 4.963459  285768   \n",
            "2               0        0        0  ...                 9.463426  235282   \n",
            "3               1        1        0  ...                 7.648981  125640   \n",
            "4               1        1        1  ...                 1.514821  160555   \n",
            "\n",
            "         BMI  Triglycerides  Physical Activity Days Per Week  \\\n",
            "0  31.251233            286                                0   \n",
            "1  27.194973            235                                1   \n",
            "2  28.176571            587                                4   \n",
            "3  36.464704            378                                3   \n",
            "4  21.809144            231                                1   \n",
            "\n",
            "   Sleep Hours Per Day    Country      Continent           Hemisphere  \\\n",
            "0                    6  Argentina  South America  Southern Hemisphere   \n",
            "1                    7     Canada  North America  Northern Hemisphere   \n",
            "2                    4     France         Europe  Northern Hemisphere   \n",
            "3                    4     Canada  North America  Northern Hemisphere   \n",
            "4                    5   Thailand           Asia  Northern Hemisphere   \n",
            "\n",
            "   Heart Attack Risk  \n",
            "0                  0  \n",
            "1                  0  \n",
            "2                  0  \n",
            "3                  0  \n",
            "4                  0  \n",
            "\n",
            "[5 rows x 26 columns]\n",
            "<class 'pandas.core.frame.DataFrame'>\n",
            "RangeIndex: 8763 entries, 0 to 8762\n",
            "Data columns (total 26 columns):\n",
            " #   Column                           Non-Null Count  Dtype  \n",
            "---  ------                           --------------  -----  \n",
            " 0   Patient ID                       8763 non-null   object \n",
            " 1   Age                              8763 non-null   int64  \n",
            " 2   Sex                              8763 non-null   object \n",
            " 3   Cholesterol                      8763 non-null   int64  \n",
            " 4   Blood Pressure                   8763 non-null   object \n",
            " 5   Heart Rate                       8763 non-null   int64  \n",
            " 6   Diabetes                         8763 non-null   int64  \n",
            " 7   Family History                   8763 non-null   int64  \n",
            " 8   Smoking                          8763 non-null   int64  \n",
            " 9   Obesity                          8763 non-null   int64  \n",
            " 10  Alcohol Consumption              8763 non-null   int64  \n",
            " 11  Exercise Hours Per Week          8763 non-null   float64\n",
            " 12  Diet                             8763 non-null   object \n",
            " 13  Previous Heart Problems          8763 non-null   int64  \n",
            " 14  Medication Use                   8763 non-null   int64  \n",
            " 15  Stress Level                     8763 non-null   int64  \n",
            " 16  Sedentary Hours Per Day          8763 non-null   float64\n",
            " 17  Income                           8763 non-null   int64  \n",
            " 18  BMI                              8763 non-null   float64\n",
            " 19  Triglycerides                    8763 non-null   int64  \n",
            " 20  Physical Activity Days Per Week  8763 non-null   int64  \n",
            " 21  Sleep Hours Per Day              8763 non-null   int64  \n",
            " 22  Country                          8763 non-null   object \n",
            " 23  Continent                        8763 non-null   object \n",
            " 24  Hemisphere                       8763 non-null   object \n",
            " 25  Heart Attack Risk                8763 non-null   int64  \n",
            "dtypes: float64(3), int64(16), object(7)\n",
            "memory usage: 1.7+ MB\n",
            "None\n",
            "Patient ID                         0\n",
            "Age                                0\n",
            "Sex                                0\n",
            "Cholesterol                        0\n",
            "Blood Pressure                     0\n",
            "Heart Rate                         0\n",
            "Diabetes                           0\n",
            "Family History                     0\n",
            "Smoking                            0\n",
            "Obesity                            0\n",
            "Alcohol Consumption                0\n",
            "Exercise Hours Per Week            0\n",
            "Diet                               0\n",
            "Previous Heart Problems            0\n",
            "Medication Use                     0\n",
            "Stress Level                       0\n",
            "Sedentary Hours Per Day            0\n",
            "Income                             0\n",
            "BMI                                0\n",
            "Triglycerides                      0\n",
            "Physical Activity Days Per Week    0\n",
            "Sleep Hours Per Day                0\n",
            "Country                            0\n",
            "Continent                          0\n",
            "Hemisphere                         0\n",
            "Heart Attack Risk                  0\n",
            "dtype: int64\n"
          ]
        }
      ]
    },
    {
      "cell_type": "markdown",
      "source": [
        "**Preprocessing the data**"
      ],
      "metadata": {
        "id": "_JujLawx37hr"
      }
    },
    {
      "cell_type": "code",
      "source": [
        "from sklearn.preprocessing import LabelEncoder\n",
        "\n",
        "# Drop unnecessary columns\n",
        "df = df.drop(columns=[\"Patient ID\", \"Country\", \"Continent\", \"Hemisphere\"])\n",
        "\n",
        "# Split 'Blood Pressure' into 'Systolic BP' and 'Diastolic BP'\n",
        "df[['Systolic BP', 'Diastolic BP']] = df[\"Blood Pressure\"].str.split(\"/\", expand=True).astype(float)\n",
        "\n",
        "# Drop the original 'Blood Pressure' column\n",
        "df = df.drop(columns=[\"Blood Pressure\"])\n",
        "\n",
        "# Encode categorical columns\n",
        "categorical_columns = [\"Sex\", \"Diet\"]\n",
        "encoder = LabelEncoder()\n",
        "for col in categorical_columns:\n",
        "    df[col] = encoder.fit_transform(df[col])\n",
        "\n",
        "# Confirm data preprocessing\n",
        "print(df.head())\n"
      ],
      "metadata": {
        "colab": {
          "base_uri": "https://localhost:8080/"
        },
        "id": "S5z4HFm63_lB",
        "outputId": "c417683b-3edc-4b0f-eea3-b2696fcfb83c"
      },
      "execution_count": 14,
      "outputs": [
        {
          "output_type": "stream",
          "name": "stdout",
          "text": [
            "   Age  Sex  Cholesterol  Heart Rate  Diabetes  Family History  Smoking  \\\n",
            "0   67    1          208          72         0               0        1   \n",
            "1   21    1          389          98         1               1        1   \n",
            "2   21    0          324          72         1               0        0   \n",
            "3   84    1          383          73         1               1        1   \n",
            "4   66    1          318          93         1               1        1   \n",
            "\n",
            "   Obesity  Alcohol Consumption  Exercise Hours Per Week  ...  Stress Level  \\\n",
            "0        0                    0                 4.168189  ...             9   \n",
            "1        1                    1                 1.813242  ...             1   \n",
            "2        0                    0                 2.078353  ...             9   \n",
            "3        0                    1                 9.828130  ...             9   \n",
            "4        1                    0                 5.804299  ...             6   \n",
            "\n",
            "   Sedentary Hours Per Day  Income        BMI  Triglycerides  \\\n",
            "0                 6.615001  261404  31.251233            286   \n",
            "1                 4.963459  285768  27.194973            235   \n",
            "2                 9.463426  235282  28.176571            587   \n",
            "3                 7.648981  125640  36.464704            378   \n",
            "4                 1.514821  160555  21.809144            231   \n",
            "\n",
            "   Physical Activity Days Per Week  Sleep Hours Per Day  Heart Attack Risk  \\\n",
            "0                                0                    6                  0   \n",
            "1                                1                    7                  0   \n",
            "2                                4                    4                  0   \n",
            "3                                3                    4                  0   \n",
            "4                                1                    5                  0   \n",
            "\n",
            "   Systolic BP  Diastolic BP  \n",
            "0        158.0          88.0  \n",
            "1        165.0          93.0  \n",
            "2        174.0          99.0  \n",
            "3        163.0         100.0  \n",
            "4         91.0          88.0  \n",
            "\n",
            "[5 rows x 23 columns]\n"
          ]
        }
      ]
    }
  ]
}